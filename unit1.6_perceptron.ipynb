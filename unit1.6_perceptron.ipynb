{
 "cells": [
  {
   "cell_type": "code",
   "execution_count": 1,
   "id": "30618a45-35ac-478f-aa0d-53ccfef4533c",
   "metadata": {},
   "outputs": [],
   "source": [
    "%load_ext watermark"
   ]
  },
  {
   "cell_type": "code",
   "execution_count": 7,
   "id": "7415d951-0684-489f-8407-06cb9deb9b1b",
   "metadata": {},
   "outputs": [
    {
     "name": "stdout",
     "output_type": "stream",
     "text": [
      "Python implementation: CPython\n",
      "Python version       : 3.9.13\n",
      "IPython version      : 8.18.1\n",
      "\n",
      "pandas    : 2.2.3\n",
      "numpy     : 2.0.2\n",
      "matplotlib: 3.9.4\n",
      "\n"
     ]
    }
   ],
   "source": [
    "%watermark -v -p pandas,numpy,matplotlib"
   ]
  },
  {
   "cell_type": "code",
   "execution_count": 8,
   "id": "d9ac0e41-4832-4f56-bad4-1b5f1912c96d",
   "metadata": {},
   "outputs": [],
   "source": [
    "import pandas as pd"
   ]
  },
  {
   "cell_type": "code",
   "execution_count": 16,
   "id": "94de2be3-309b-426f-9cef-c2ec526af437",
   "metadata": {},
   "outputs": [
    {
     "data": {
      "text/html": [
       "<div>\n",
       "<style scoped>\n",
       "    .dataframe tbody tr th:only-of-type {\n",
       "        vertical-align: middle;\n",
       "    }\n",
       "\n",
       "    .dataframe tbody tr th {\n",
       "        vertical-align: top;\n",
       "    }\n",
       "\n",
       "    .dataframe thead th {\n",
       "        text-align: right;\n",
       "    }\n",
       "</style>\n",
       "<table border=\"1\" class=\"dataframe\">\n",
       "  <thead>\n",
       "    <tr style=\"text-align: right;\">\n",
       "      <th></th>\n",
       "      <th>x1</th>\n",
       "      <th>x2</th>\n",
       "      <th>label</th>\n",
       "    </tr>\n",
       "  </thead>\n",
       "  <tbody>\n",
       "    <tr>\n",
       "      <th>0</th>\n",
       "      <td>0.77</td>\n",
       "      <td>-1.14</td>\n",
       "      <td>0</td>\n",
       "    </tr>\n",
       "    <tr>\n",
       "      <th>1</th>\n",
       "      <td>-0.33</td>\n",
       "      <td>1.44</td>\n",
       "      <td>0</td>\n",
       "    </tr>\n",
       "    <tr>\n",
       "      <th>2</th>\n",
       "      <td>0.91</td>\n",
       "      <td>-3.07</td>\n",
       "      <td>0</td>\n",
       "    </tr>\n",
       "    <tr>\n",
       "      <th>3</th>\n",
       "      <td>-0.37</td>\n",
       "      <td>-1.91</td>\n",
       "      <td>0</td>\n",
       "    </tr>\n",
       "    <tr>\n",
       "      <th>4</th>\n",
       "      <td>-1.84</td>\n",
       "      <td>-1.13</td>\n",
       "      <td>0</td>\n",
       "    </tr>\n",
       "    <tr>\n",
       "      <th>...</th>\n",
       "      <td>...</td>\n",
       "      <td>...</td>\n",
       "      <td>...</td>\n",
       "    </tr>\n",
       "    <tr>\n",
       "      <th>95</th>\n",
       "      <td>0.71</td>\n",
       "      <td>2.27</td>\n",
       "      <td>1</td>\n",
       "    </tr>\n",
       "    <tr>\n",
       "      <th>96</th>\n",
       "      <td>1.96</td>\n",
       "      <td>0.83</td>\n",
       "      <td>1</td>\n",
       "    </tr>\n",
       "    <tr>\n",
       "      <th>97</th>\n",
       "      <td>2.52</td>\n",
       "      <td>1.83</td>\n",
       "      <td>1</td>\n",
       "    </tr>\n",
       "    <tr>\n",
       "      <th>98</th>\n",
       "      <td>2.77</td>\n",
       "      <td>2.82</td>\n",
       "      <td>1</td>\n",
       "    </tr>\n",
       "    <tr>\n",
       "      <th>99</th>\n",
       "      <td>4.16</td>\n",
       "      <td>3.34</td>\n",
       "      <td>1</td>\n",
       "    </tr>\n",
       "  </tbody>\n",
       "</table>\n",
       "<p>100 rows × 3 columns</p>\n",
       "</div>"
      ],
      "text/plain": [
       "      x1    x2  label\n",
       "0   0.77 -1.14      0\n",
       "1  -0.33  1.44      0\n",
       "2   0.91 -3.07      0\n",
       "3  -0.37 -1.91      0\n",
       "4  -1.84 -1.13      0\n",
       "..   ...   ...    ...\n",
       "95  0.71  2.27      1\n",
       "96  1.96  0.83      1\n",
       "97  2.52  1.83      1\n",
       "98  2.77  2.82      1\n",
       "99  4.16  3.34      1\n",
       "\n",
       "[100 rows x 3 columns]"
      ]
     },
     "execution_count": 16,
     "metadata": {},
     "output_type": "execute_result"
    }
   ],
   "source": [
    "df = pd.read_csv(\"perceptron_toydata.txt\", sep=\"\\t\", header=None, names=[\"x1\", \"x2\", \"label\"])\n",
    "df"
   ]
  },
  {
   "cell_type": "code",
   "execution_count": null,
   "id": "8512fe21-b983-40ec-aa8a-2b98592b1db8",
   "metadata": {
    "jupyter": {
     "source_hidden": true
    }
   },
   "outputs": [],
   "source": []
  },
  {
   "cell_type": "code",
   "execution_count": 17,
   "id": "a6e58eb0-3818-4756-8e46-ad47e28e9e70",
   "metadata": {},
   "outputs": [],
   "source": [
    "x_train = df[[\"x1\", \"x2\"]].values\n",
    "y_train = df[\"label\"].values"
   ]
  },
  {
   "cell_type": "code",
   "execution_count": 21,
   "id": "4bb8447a-5f73-4e65-8954-eea68662d51a",
   "metadata": {},
   "outputs": [
    {
     "data": {
      "text/plain": [
       "(100, 2)"
      ]
     },
     "execution_count": 21,
     "metadata": {},
     "output_type": "execute_result"
    }
   ],
   "source": [
    "x_train.shape"
   ]
  },
  {
   "cell_type": "code",
   "execution_count": 22,
   "id": "00c0149a-8765-4711-9471-c1baecce33ca",
   "metadata": {},
   "outputs": [],
   "source": [
    "import numpy as np"
   ]
  },
  {
   "cell_type": "code",
   "execution_count": 23,
   "id": "c9a6c53f-1073-4e10-923b-2f22e9f5b6b4",
   "metadata": {},
   "outputs": [
    {
     "data": {
      "text/plain": [
       "array([50, 50])"
      ]
     },
     "execution_count": 23,
     "metadata": {},
     "output_type": "execute_result"
    }
   ],
   "source": [
    "np.bincount(y_train)"
   ]
  },
  {
   "cell_type": "code",
   "execution_count": 24,
   "id": "76107cfe-d657-4ca7-b63d-9d89293895d5",
   "metadata": {},
   "outputs": [],
   "source": [
    "%matplotlib inline\n",
    "import matplotlib.pyplot as plt"
   ]
  },
  {
   "cell_type": "code",
   "execution_count": 28,
   "id": "5beb2037-447a-4205-afe7-c9ebf63da9a2",
   "metadata": {},
   "outputs": [
    {
     "data": {
      "image/png": "[encoded data removed]",
      "text/plain": [
       "<Figure size 640x480 with 1 Axes>"
      ]
     },
     "metadata": {},
     "output_type": "display_data"
    }
   ],
   "source": [
    "plt.plot(\n",
    "    x_train[y_train == 0, 0], # row matches y_train == 0, col is x1\n",
    "    x_train[y_train == 0, 1], # row matches y_train == 0, col is x2\n",
    "    marker = \"D\",\n",
    "    markersize = 10,\n",
    "    linestyle = \"\",\n",
    "    label = \"Class 0\"\n",
    ")\n",
    "plt.plot(\n",
    "    x_train[y_train == 1, 0],\n",
    "    x_train[y_train == 1, 1],\n",
    "    marker = \"^\",\n",
    "    markersize = 13,\n",
    "    linestyle = \"\",\n",
    "    label = \"Class 1\"\n",
    ")\n",
    "plt.legend(loc = 2)\n",
    "plt.xlim([-5, 5])\n",
    "plt.ylim([-5, 5])\n",
    "\n",
    "plt.xlabel(\"Feature $x_1$\", fontsize=12)\n",
    "plt.ylabel(\"Feature $x_2$\", fontsize=12)\n",
    "\n",
    "plt.grid()\n",
    "plt.show()"
   ]
  },
  {
   "cell_type": "code",
   "execution_count": 29,
   "id": "871b697f-d915-45ae-a21c-86ccc5be89d2",
   "metadata": {},
   "outputs": [],
   "source": [
    "class Perceptron:\n",
    "    def __init__(self, num_features):\n",
    "        self.num_features = num_features\n",
    "        self.weights = [0.0 for _ in range(num_features)]\n",
    "        self.bias = 0.0"
   ]
  },
  {
   "cell_type": "code",
   "execution_count": 30,
   "id": "3b7d7d7e-fe6e-494e-9099-d32b6f4f20ac",
   "metadata": {},
   "outputs": [],
   "source": [
    "ppn = Perceptron(num_features = 2)"
   ]
  },
  {
   "cell_type": "code",
   "execution_count": 31,
   "id": "35cb61de-6510-4ca3-9ec4-22636746d260",
   "metadata": {},
   "outputs": [],
   "source": [
    "class Perceptron:\n",
    "    def __init__(self, num_features):\n",
    "        self.num_features = num_features\n",
    "        self.weights = [0.0 for _ in range(num_features)]\n",
    "        self.bias = 0.0\n",
    "    def forward(self, x):\n",
    "        weighted_sum_z = self.bias\n",
    "        for i, _ in enumerate(self.weights):\n",
    "            weighted_sum_z += x[i] * self.weights[i]\n",
    "\n",
    "        if weighted_sum_z > 0.0:\n",
    "            prediction = 1\n",
    "        else:\n",
    "            prediction = 0\n",
    "\n",
    "        return prediction"
   ]
  },
  {
   "cell_type": "code",
   "execution_count": 32,
   "id": "bc672ac4-495f-4744-8622-d314673f9931",
   "metadata": {},
   "outputs": [
    {
     "data": {
      "text/plain": [
       "0"
      ]
     },
     "execution_count": 32,
     "metadata": {},
     "output_type": "execute_result"
    }
   ],
   "source": [
    "ppn = Perceptron(num_features = 2)\n",
    "\n",
    "x = [1.1, 2.1]\n",
    "ppn.forward(x)"
   ]
  },
  {
   "cell_type": "code",
   "execution_count": 55,
   "id": "116789ce-1d82-4945-a7b2-f8540292ab64",
   "metadata": {},
   "outputs": [],
   "source": [
    "import random\n",
    "class Perceptron:\n",
    "    def __init__(self, num_features, alpha = 1.0):\n",
    "        random.seed(123)\n",
    "        self.num_features = num_features\n",
    "        self.weights = [random.uniform(-0.5, 0.5) for _ in range(num_features)]\n",
    "        self.bias = random.uniform(-0.5, 0.5)\n",
    "        self.alpha = alpha\n",
    "        \n",
    "    def forward(self, x):\n",
    "        weighted_sum_z = self.bias\n",
    "        for i, _ in enumerate(self.weights):\n",
    "            weighted_sum_z += x[i] * self.weights[i]\n",
    "\n",
    "        if weighted_sum_z > 0.0:\n",
    "            prediction = 1\n",
    "        else:\n",
    "            prediction = 0\n",
    "\n",
    "        return prediction\n",
    "\n",
    "    def update(self, x, true_y):\n",
    "        prediction = self.forward(x)\n",
    "        error = true_y - prediction\n",
    "\n",
    "        #update\n",
    "        self.bias += (error * self.alpha)\n",
    "        for i, _ in enumerate(self.weights):\n",
    "            self.weights[i] += (error * x[i] * self.alpha)\n",
    "\n",
    "        return error"
   ]
  },
  {
   "cell_type": "code",
   "execution_count": 35,
   "id": "8d8e900a-5afd-48cd-8362-982c07cdea6a",
   "metadata": {},
   "outputs": [
    {
     "name": "stdout",
     "output_type": "stream",
     "text": [
      "Model parameters:\n",
      " Weights: [1.1, 2.1]\n",
      " Bias: 1.0\n"
     ]
    }
   ],
   "source": [
    "ppn = Perceptron(num_features = 2, alpha = 0.5)\n",
    "\n",
    "x = [1.1, 2.1]\n",
    "ppn.update(x, true_y = 1)\n",
    "print(\"Model parameters:\")\n",
    "print(\" Weights:\", ppn.weights)\n",
    "print(\" Bias:\", ppn.bias)"
   ]
  },
  {
   "cell_type": "code",
   "execution_count": 52,
   "id": "1896266a-e56b-4674-a228-ae3f3ada66ad",
   "metadata": {},
   "outputs": [],
   "source": [
    "def train(model, all_x, all_y, epochs):\n",
    "    for epoch in range(epochs):\n",
    "        error_count = 0\n",
    "\n",
    "        for x, y in zip(all_x, all_y):\n",
    "            error = model.update(x, y)\n",
    "            error_count += abs(error)\n",
    "\n",
    "        print(f\"Epoch {epoch + 1} errors {error_count}\")\n",
    "        if (error_count == 0):\n",
    "            return"
   ]
  },
  {
   "cell_type": "code",
   "execution_count": 56,
   "id": "2b1de35d-5bf8-4176-b1e0-1c925c0f3c30",
   "metadata": {},
   "outputs": [
    {
     "name": "stdout",
     "output_type": "stream",
     "text": [
      "Epoch 1 errors 3\n",
      "Epoch 2 errors 4\n",
      "Epoch 3 errors 1\n",
      "Epoch 4 errors 0\n"
     ]
    }
   ],
   "source": [
    "ppn = Perceptron(num_features = 2, alpha = 0.5)\n",
    "\n",
    "train(model = ppn, all_x = x_train, all_y = y_train, epochs = 10)"
   ]
  },
  {
   "cell_type": "code",
   "execution_count": 39,
   "id": "28d63d23-017a-42de-afda-80ca588f5934",
   "metadata": {},
   "outputs": [],
   "source": [
    "def compute_accuracy(model, all_x, all_y):\n",
    "    correct = 0.0\n",
    "\n",
    "    for x, y in zip(all_x, all_y):\n",
    "        prediction = model.forward(x)\n",
    "        correct += int(prediction == y)\n",
    "\n",
    "    return correct / len(all_y)"
   ]
  },
  {
   "cell_type": "code",
   "execution_count": 40,
   "id": "acdb1e02-b760-49cf-b2e6-89fd4e974404",
   "metadata": {},
   "outputs": [
    {
     "data": {
      "text/plain": [
       "1.0"
      ]
     },
     "execution_count": 40,
     "metadata": {},
     "output_type": "execute_result"
    }
   ],
   "source": [
    "train_acc = compute_accuracy(ppn, x_train, y_train)\n",
    "train_acc"
   ]
  },
  {
   "cell_type": "code",
   "execution_count": 41,
   "id": "ea5c2ede-18b8-49b8-b463-03f431ec002a",
   "metadata": {},
   "outputs": [
    {
     "name": "stdout",
     "output_type": "stream",
     "text": [
      "Accuracy: 100.0%\n"
     ]
    }
   ],
   "source": [
    "print(f\"Accuracy: {train_acc * 100}%\")"
   ]
  },
  {
   "cell_type": "code",
   "execution_count": 42,
   "id": "52cf2032-241f-4664-a111-fa9081ee34fd",
   "metadata": {},
   "outputs": [
    {
     "data": {
      "image/png": "[encoded data removed]",
      "text/plain": [
       "<Figure size 640x480 with 1 Axes>"
      ]
     },
     "metadata": {},
     "output_type": "display_data"
    }
   ],
   "source": [
    "plt.plot(\n",
    "    x_train[y_train == 0, 0], # row matches y_train == 0, col is x1\n",
    "    x_train[y_train == 0, 1], # row matches y_train == 0, col is x2\n",
    "    marker = \"D\",\n",
    "    markersize = 10,\n",
    "    linestyle = \"\",\n",
    "    label = \"Class 0\"\n",
    ")\n",
    "plt.plot(\n",
    "    x_train[y_train == 1, 0],\n",
    "    x_train[y_train == 1, 1],\n",
    "    marker = \"^\",\n",
    "    markersize = 13,\n",
    "    linestyle = \"\",\n",
    "    label = \"Class 1\"\n",
    ")\n",
    "plt.legend(loc = 2)\n",
    "plt.xlim([-5, 5])\n",
    "plt.ylim([-5, 5])\n",
    "\n",
    "plt.xlabel(\"Feature $x_1$\", fontsize=12)\n",
    "plt.ylabel(\"Feature $x_2$\", fontsize=12)\n",
    "\n",
    "plt.grid()\n",
    "plt.show()"
   ]
  },
  {
   "cell_type": "code",
   "execution_count": 43,
   "id": "6eb50415-976f-4549-8717-0a0cfd1e430f",
   "metadata": {},
   "outputs": [],
   "source": [
    "def plot_boundary(model):\n",
    "    w1, w2 = model.weights[0], model.weights[1]\n",
    "    b = model.bias\n",
    "\n",
    "    x1_min = -20\n",
    "    x2_min = (-(w1 * x1_min) -b) / w2\n",
    "\n",
    "    x1_max = 20\n",
    "    x2_max = (-(w1 * x1_max) -b) / w2\n",
    "\n",
    "    return x1_min, x1_max, x2_min, x2_max"
   ]
  },
  {
   "cell_type": "code",
   "execution_count": 46,
   "id": "38a28e9d-2f88-4fdf-b8cd-ba28ace99c41",
   "metadata": {},
   "outputs": [
    {
     "name": "stdout",
     "output_type": "stream",
     "text": [
      "-20 39.999999999999986 20 -35.34883720930232\n"
     ]
    },
    {
     "data": {
      "image/png": "[encoded data removed]",
      "text/plain": [
       "<Figure size 640x480 with 1 Axes>"
      ]
     },
     "metadata": {},
     "output_type": "display_data"
    }
   ],
   "source": [
    "x1_min, x1_max, x2_min, x2_max = plot_boundary(ppn)\n",
    "print(x1_min, x2_min, x1_max, x2_max)\n",
    "plt.plot(\n",
    "    x_train[y_train == 0, 0], # row matches y_train == 0, col is x1\n",
    "    x_train[y_train == 0, 1], # row matches y_train == 0, col is x2\n",
    "    marker = \"D\",\n",
    "    markersize = 10,\n",
    "    linestyle = \"\",\n",
    "    label = \"Class 0\"\n",
    ")\n",
    "plt.plot(\n",
    "    x_train[y_train == 1, 0],\n",
    "    x_train[y_train == 1, 1],\n",
    "    marker = \"^\",\n",
    "    markersize = 13,\n",
    "    linestyle = \"\",\n",
    "    label = \"Class 1\"\n",
    ")\n",
    "\n",
    "# plot straight line using [axis x points], [axis y points]\n",
    "plt.plot([x1_min, x1_max], [x2_min, x2_max], color = \"k\")\n",
    "\n",
    "plt.legend(loc = 2)\n",
    "plt.xlim([-5, 5])\n",
    "plt.ylim([-5, 5])\n",
    "\n",
    "plt.xlabel(\"Feature $x_1$\", fontsize=12)\n",
    "plt.ylabel(\"Feature $x_2$\", fontsize=12)\n",
    "\n",
    "plt.grid()\n",
    "plt.show()"
   ]
  },
  {
   "cell_type": "code",
   "execution_count": null,
   "id": "88f3115a-b424-4be3-af44-5a958cda1d15",
   "metadata": {},
   "outputs": [],
   "source": []
  }
 ],
 "metadata": {
  "kernelspec": {
   "display_name": "Python 3 (ipykernel)",
   "language": "python",
   "name": "python3"
  },
  "language_info": {
   "codemirror_mode": {
    "name": "ipython",
    "version": 3
   },
   "file_extension": ".py",
   "mimetype": "text/x-python",
   "name": "python",
   "nbconvert_exporter": "python",
   "pygments_lexer": "ipython3",
   "version": "3.9.13"
  }
 },
 "nbformat": 4,
 "nbformat_minor": 5
}
