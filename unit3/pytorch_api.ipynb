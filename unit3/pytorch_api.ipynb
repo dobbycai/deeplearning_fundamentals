{
 "cells": [
  {
   "cell_type": "code",
   "execution_count": 2,
   "id": "456c547c-369e-4d27-9e81-dad75c1951a2",
   "metadata": {},
   "outputs": [],
   "source": [
    "import torch\n",
    "# template for model training\n",
    "class MyClassifier(torch.nn.Module):\n",
    "    def __init__(self):\n",
    "        # define model parameters\n",
    "        pass\n",
    "\n",
    "    def forward(self, x):\n",
    "        # define how model\n",
    "        # produces outputs\n",
    "        pass"
   ]
  },
  {
   "cell_type": "code",
   "execution_count": 3,
   "id": "d8fcbb0c-d82a-4704-8d76-5a5ae9f839f6",
   "metadata": {},
   "outputs": [],
   "source": [
    "# using predefined NN layer\n",
    "import torch\n",
    "torch.manual_seed(123)\n",
    "\n",
    "linear = torch.nn.Linear(in_features = 2, out_features = 1)"
   ]
  },
  {
   "cell_type": "code",
   "execution_count": 4,
   "id": "bc4fa811-77db-45f7-b652-ecc9f26d47cb",
   "metadata": {},
   "outputs": [
    {
     "name": "stdout",
     "output_type": "stream",
     "text": [
      "Parameter containing:\n",
      "tensor([[-0.2883,  0.0234]], requires_grad=True)\n"
     ]
    }
   ],
   "source": [
    "print(linear.weight)"
   ]
  },
  {
   "cell_type": "code",
   "execution_count": 5,
   "id": "b17ce167-e6db-4934-8cf7-614af720e880",
   "metadata": {},
   "outputs": [
    {
     "name": "stdout",
     "output_type": "stream",
     "text": [
      "Parameter containing:\n",
      "tensor([-0.3512], requires_grad=True)\n"
     ]
    }
   ],
   "source": [
    "print(linear.bias)"
   ]
  },
  {
   "cell_type": "code",
   "execution_count": 6,
   "id": "243471aa-f0ef-475d-8a83-93b070f2477f",
   "metadata": {},
   "outputs": [
    {
     "name": "stdout",
     "output_type": "stream",
     "text": [
      "tensor([[-0.6855]])\n"
     ]
    }
   ],
   "source": [
    "w = linear.weight.detach()\n",
    "b = linear.bias.detach()\n",
    "x = torch.tensor([[1.2, 0.5]])\n",
    "z = x.matmul(w.T) + b\n",
    "\n",
    "# same as z = linear(x)\n",
    "print(z)"
   ]
  },
  {
   "cell_type": "code",
   "execution_count": 8,
   "id": "6ff7674b-2165-4099-9b0d-98f42325cd86",
   "metadata": {},
   "outputs": [
    {
     "name": "stdout",
     "output_type": "stream",
     "text": [
      "tensor([[-0.6855],\n",
      "        [-0.5343],\n",
      "        [-0.3519]])\n"
     ]
    }
   ],
   "source": [
    "# handle mini batches\n",
    "x = torch.tensor([[1.2, 0.5],\n",
    "                  [0.7, 0.8],\n",
    "                  [0.1, 1.2]])\n",
    "z = x.matmul(w.T) + b\n",
    "print(z)\n",
    "\n",
    "# same as z = linear(x)"
   ]
  },
  {
   "cell_type": "code",
   "execution_count": null,
   "id": "95c84815-4098-4e7b-8b1b-12cd64d60c92",
   "metadata": {},
   "outputs": [],
   "source": []
  }
 ],
 "metadata": {
  "kernelspec": {
   "display_name": "Python 3 (ipykernel)",
   "language": "python",
   "name": "python3"
  },
  "language_info": {
   "codemirror_mode": {
    "name": "ipython",
    "version": 3
   },
   "file_extension": ".py",
   "mimetype": "text/x-python",
   "name": "python",
   "nbconvert_exporter": "python",
   "pygments_lexer": "ipython3",
   "version": "3.9.13"
  }
 },
 "nbformat": 4,
 "nbformat_minor": 5
}
