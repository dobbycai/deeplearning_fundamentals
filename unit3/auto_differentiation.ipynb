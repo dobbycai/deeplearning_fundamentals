{
 "cells": [
  {
   "cell_type": "code",
   "execution_count": 1,
   "id": "f60afcd7-9210-4299-9493-4e1036a96a13",
   "metadata": {},
   "outputs": [],
   "source": [
    "import torch"
   ]
  },
  {
   "cell_type": "code",
   "execution_count": 2,
   "id": "dc50427e-c5e8-45af-a85c-b9d00bfd3ce1",
   "metadata": {},
   "outputs": [],
   "source": [
    "#model parameter\n",
    "w_1 = torch.tensor([0.23], requires_grad=True)\n",
    "b = torch.tensor([0.1], requires_grad=True)\n",
    "\n",
    "# input and target\n",
    "x_1 = torch.tensor([1.23])\n",
    "y = torch.tensor([1.])"
   ]
  },
  {
   "cell_type": "code",
   "execution_count": 3,
   "id": "41d6bd8f-6ea6-41e7-80df-747e050718dd",
   "metadata": {},
   "outputs": [
    {
     "name": "stdout",
     "output_type": "stream",
     "text": [
      "tensor([0.3829], grad_fn=<AddBackward0>)\n"
     ]
    }
   ],
   "source": [
    "u = x_1 * w_1\n",
    "z = u + b\n",
    "print(z)"
   ]
  },
  {
   "cell_type": "code",
   "execution_count": 4,
   "id": "6bb1cc07-f50f-4575-b3ac-34914b35c4dc",
   "metadata": {},
   "outputs": [
    {
     "name": "stdout",
     "output_type": "stream",
     "text": [
      "tensor([0.5946], grad_fn=<SigmoidBackward0>)\n"
     ]
    }
   ],
   "source": [
    "a = torch.sigmoid(z)\n",
    "print(a)"
   ]
  },
  {
   "cell_type": "code",
   "execution_count": 5,
   "id": "0caa420f-67a5-434b-83f3-79cd0d5fed77",
   "metadata": {},
   "outputs": [
    {
     "name": "stdout",
     "output_type": "stream",
     "text": [
      "tensor(0.5199, grad_fn=<BinaryCrossEntropyBackward0>)\n"
     ]
    }
   ],
   "source": [
    "import torch.nn.functional as F\n",
    "\n",
    "# loss function\n",
    "l = F.binary_cross_entropy(a, y)\n",
    "print(l)"
   ]
  },
  {
   "cell_type": "code",
   "execution_count": 6,
   "id": "c4358507-2049-4b02-b760-fee71f2d1c88",
   "metadata": {},
   "outputs": [],
   "source": [
    "from torch.autograd import grad"
   ]
  },
  {
   "cell_type": "code",
   "execution_count": 7,
   "id": "51bce960-dc57-4439-9bdd-59cc928f0065",
   "metadata": {},
   "outputs": [
    {
     "name": "stdout",
     "output_type": "stream",
     "text": [
      "(tensor([-0.4987]),)\n"
     ]
    }
   ],
   "source": [
    "grad_l_w1 = grad(l, w_1, retain_graph=True)\n",
    "print(grad_l_w1)"
   ]
  },
  {
   "cell_type": "code",
   "execution_count": 8,
   "id": "9736d780-8d5a-4a8c-b0ba-01d07559fa90",
   "metadata": {},
   "outputs": [
    {
     "name": "stdout",
     "output_type": "stream",
     "text": [
      "(tensor([-0.4054]),)\n"
     ]
    }
   ],
   "source": [
    "grad_l_b = grad(l, b, retain_graph=True)\n",
    "print(grad_l_b)"
   ]
  },
  {
   "cell_type": "code",
   "execution_count": 9,
   "id": "14272615-df2c-4fb3-8a2d-34e398d5d0ef",
   "metadata": {},
   "outputs": [],
   "source": [
    "l.backward() # auto gradient decent"
   ]
  },
  {
   "cell_type": "code",
   "execution_count": 10,
   "id": "272135f6-1f73-4c56-92e9-01f60cc1e36f",
   "metadata": {},
   "outputs": [
    {
     "data": {
      "text/plain": [
       "tensor([-0.4987])"
      ]
     },
     "execution_count": 10,
     "metadata": {},
     "output_type": "execute_result"
    }
   ],
   "source": [
    "w_1.grad"
   ]
  },
  {
   "cell_type": "code",
   "execution_count": 11,
   "id": "3ad3c744-f4fb-413d-bcdf-60546c2e5bbc",
   "metadata": {},
   "outputs": [
    {
     "data": {
      "text/plain": [
       "tensor([-0.4054])"
      ]
     },
     "execution_count": 11,
     "metadata": {},
     "output_type": "execute_result"
    }
   ],
   "source": [
    "b.grad"
   ]
  },
  {
   "cell_type": "code",
   "execution_count": null,
   "id": "be7a6e3a-0d6a-4295-bda7-de41b439c0c0",
   "metadata": {},
   "outputs": [],
   "source": []
  }
 ],
 "metadata": {
  "kernelspec": {
   "display_name": "Python 3 (ipykernel)",
   "language": "python",
   "name": "python3"
  },
  "language_info": {
   "codemirror_mode": {
    "name": "ipython",
    "version": 3
   },
   "file_extension": ".py",
   "mimetype": "text/x-python",
   "name": "python",
   "nbconvert_exporter": "python",
   "pygments_lexer": "ipython3",
   "version": "3.9.13"
  }
 },
 "nbformat": 4,
 "nbformat_minor": 5
}
