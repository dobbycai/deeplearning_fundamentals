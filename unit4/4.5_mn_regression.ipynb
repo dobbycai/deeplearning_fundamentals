{
 "cells": [
  {
   "cell_type": "code",
   "execution_count": 3,
   "id": "b89a289f",
   "metadata": {},
   "outputs": [
    {
     "name": "stdout",
     "output_type": "stream",
     "text": [
      "tensor([[[ 0.8227,  1.3130, -1.0887, -1.4778],\n",
      "         [ 0.9889, -1.8032, -1.3935, -0.7834],\n",
      "         [ 0.1868,  0.0803,  0.3944,  1.1964]],\n",
      "\n",
      "        [[ 1.6804,  0.4763, -1.4408, -0.8189],\n",
      "         [-1.2553, -0.1498,  0.3176, -0.1072],\n",
      "         [-1.3099,  0.1600,  1.0133,  1.1892]]])\n",
      "torch.Size([24])\n",
      "tensor([ 0.8227,  1.3130, -1.0887, -1.4778,  0.9889, -1.8032, -1.3935, -0.7834,\n",
      "         0.1868,  0.0803,  0.3944,  1.1964,  1.6804,  0.4763, -1.4408, -0.8189,\n",
      "        -1.2553, -0.1498,  0.3176, -0.1072, -1.3099,  0.1600,  1.0133,  1.1892])\n"
     ]
    }
   ],
   "source": [
    "import torch\n",
    "\n",
    "logits = torch.randn(2, 3, 4)  # Example logits tensor\n",
    "print(logits)\n",
    "flattened_logits = torch.flatten(logits)\n",
    "print(flattened_logits.shape)  # Output: torch.Size([24])\n",
    "print(flattened_logits)"
   ]
  },
  {
   "cell_type": "code",
   "execution_count": 1,
   "id": "7150916e",
   "metadata": {},
   "outputs": [
    {
     "data": {
      "image/png": "[encoded data removed]",
      "text/plain": [
       "<Figure size 640x480 with 1 Axes>"
      ]
     },
     "metadata": {},
     "output_type": "display_data"
    }
   ],
   "source": [
    "import torch\n",
    "\n",
    "X_train = torch.tensor(\n",
    "    [258.0, 270.0, 294.0, 320.0, 342.0, 368.0, 396.0, 446.0, 480.0, 586.0]\n",
    ").view(-1, 1)\n",
    "\n",
    "y_train = torch.tensor(\n",
    "    [236.4, 234.4, 252.8, 298.6, 314.2, 342.2, 360.8, 368.0, 391.2, 390.8]\n",
    ")\n",
    "\n",
    "import matplotlib.pyplot as plt\n",
    "\n",
    "plt.scatter(X_train, y_train)\n",
    "plt.xlabel(\"Feature variable\")\n",
    "plt.ylabel(\"Target variable\")\n",
    "plt.show()"
   ]
  },
  {
   "cell_type": "code",
   "execution_count": 3,
   "id": "3b056cfd",
   "metadata": {},
   "outputs": [],
   "source": [
    "class PyTorchMLP(torch.nn.Module):\n",
    "    def __init__(self, num_features):\n",
    "        super().__init__()\n",
    "\n",
    "        self.all_layers = torch.nn.Sequential(\n",
    "            torch.nn.Linear(num_features, 50),\n",
    "            torch.nn.ReLU(),\n",
    "\n",
    "            torch.nn.Linear(50, 25),\n",
    "            torch.nn.ReLU(),\n",
    "\n",
    "            torch.nn.Linear(25, 1)\n",
    "        )\n",
    "\n",
    "    def forward(self, x):\n",
    "        # because it is continous value set,\n",
    "        # self.all_layers return is something like [[x], [x], [x]]\n",
    "        # we want something like [x,x,x] for mse_loss function\n",
    "        return self.all_layers(x).flatten()"
   ]
  },
  {
   "cell_type": "code",
   "execution_count": 4,
   "id": "680ef965",
   "metadata": {},
   "outputs": [],
   "source": [
    "x_mean, x_std = X_train.mean(), X_train.std()\n",
    "y_mean, y_std = y_train.mean(), y_train.std()\n",
    "\n",
    "X_train_norm = (X_train - x_mean) / x_std\n",
    "y_train_norm = (y_train - y_mean) / y_std"
   ]
  },
  {
   "cell_type": "code",
   "execution_count": 5,
   "id": "dc853502",
   "metadata": {},
   "outputs": [],
   "source": [
    "from torch.utils.data import Dataset, DataLoader\n",
    "\n",
    "class MyDataset(Dataset):\n",
    "    def __init__(self, x, y):\n",
    "        self.features = x\n",
    "        self.target = y\n",
    "\n",
    "    def __getitem__(self, index):\n",
    "        return self.features[index], self.target[index]\n",
    "    \n",
    "    def __len__(self):\n",
    "        return self.target.shape[0]\n",
    "    \n",
    "train_ds = MyDataset(X_train_norm, y_train_norm)\n",
    "\n",
    "train_loader = DataLoader(\n",
    "    dataset=train_ds,\n",
    "    batch_size=20,\n",
    "    shuffle=True,\n",
    ")    "
   ]
  },
  {
   "cell_type": "code",
   "execution_count": 6,
   "id": "19976765",
   "metadata": {},
   "outputs": [
    {
     "name": "stdout",
     "output_type": "stream",
     "text": [
      "Epoch: 001/030 | Batch 000/001 | Train Loss: 1.01\n",
      "Epoch: 002/030 | Batch 000/001 | Train Loss: 0.66\n",
      "Epoch: 003/030 | Batch 000/001 | Train Loss: 0.49\n",
      "Epoch: 004/030 | Batch 000/001 | Train Loss: 0.37\n",
      "Epoch: 005/030 | Batch 000/001 | Train Loss: 0.28\n",
      "Epoch: 006/030 | Batch 000/001 | Train Loss: 0.21\n",
      "Epoch: 007/030 | Batch 000/001 | Train Loss: 0.17\n",
      "Epoch: 008/030 | Batch 000/001 | Train Loss: 0.14\n",
      "Epoch: 009/030 | Batch 000/001 | Train Loss: 0.11\n",
      "Epoch: 010/030 | Batch 000/001 | Train Loss: 0.10\n",
      "Epoch: 011/030 | Batch 000/001 | Train Loss: 0.09\n",
      "Epoch: 012/030 | Batch 000/001 | Train Loss: 0.08\n",
      "Epoch: 013/030 | Batch 000/001 | Train Loss: 0.07\n",
      "Epoch: 014/030 | Batch 000/001 | Train Loss: 0.07\n",
      "Epoch: 015/030 | Batch 000/001 | Train Loss: 0.06\n",
      "Epoch: 016/030 | Batch 000/001 | Train Loss: 0.06\n",
      "Epoch: 017/030 | Batch 000/001 | Train Loss: 0.05\n",
      "Epoch: 018/030 | Batch 000/001 | Train Loss: 0.05\n",
      "Epoch: 019/030 | Batch 000/001 | Train Loss: 0.05\n",
      "Epoch: 020/030 | Batch 000/001 | Train Loss: 0.04\n",
      "Epoch: 021/030 | Batch 000/001 | Train Loss: 0.04\n",
      "Epoch: 022/030 | Batch 000/001 | Train Loss: 0.04\n",
      "Epoch: 023/030 | Batch 000/001 | Train Loss: 0.04\n",
      "Epoch: 024/030 | Batch 000/001 | Train Loss: 0.04\n",
      "Epoch: 025/030 | Batch 000/001 | Train Loss: 0.03\n",
      "Epoch: 026/030 | Batch 000/001 | Train Loss: 0.03\n",
      "Epoch: 027/030 | Batch 000/001 | Train Loss: 0.03\n",
      "Epoch: 028/030 | Batch 000/001 | Train Loss: 0.03\n",
      "Epoch: 029/030 | Batch 000/001 | Train Loss: 0.03\n",
      "Epoch: 030/030 | Batch 000/001 | Train Loss: 0.03\n"
     ]
    }
   ],
   "source": [
    "import torch.nn.functional as F\n",
    "\n",
    "num_epochs = 30\n",
    "model = PyTorchMLP(1)\n",
    "model.to(\"cuda\")\n",
    "optimizer = torch.optim.SGD(model.parameters(), lr = 0.05)\n",
    "\n",
    "for epoch in range(num_epochs):\n",
    "    model = model.train()\n",
    "\n",
    "    for batch_idx, (features, targets) in enumerate(train_loader):\n",
    "        features = features.to(\"cuda\")\n",
    "        targets = targets.to(\"cuda\")\n",
    "        values = model(features)\n",
    "\n",
    "        loss = F.mse_loss(values, targets)\n",
    "        optimizer.zero_grad()\n",
    "        loss.backward()\n",
    "        optimizer.step()\n",
    "\n",
    "        if not batch_idx % 250:\n",
    "            ### LOGGING\n",
    "            print(\n",
    "                f\"Epoch: {epoch+1:03d}/{num_epochs:03d}\"\n",
    "                f\" | Batch {batch_idx:03d}/{len(train_loader):03d}\"\n",
    "                f\" | Train Loss: {loss:.2f}\"\n",
    "            )        "
   ]
  },
  {
   "cell_type": "code",
   "execution_count": 16,
   "id": "62a31c3b",
   "metadata": {},
   "outputs": [
    {
     "name": "stdout",
     "output_type": "stream",
     "text": [
      "False\n"
     ]
    }
   ],
   "source": [
    "import torch\n",
    "print(torch.cuda.is_available())"
   ]
  },
  {
   "cell_type": "code",
   "execution_count": null,
   "id": "13963493",
   "metadata": {},
   "outputs": [],
   "source": []
  }
 ],
 "metadata": {
  "kernelspec": {
   "display_name": "Python 3",
   "language": "python",
   "name": "python3"
  },
  "language_info": {
   "codemirror_mode": {
    "name": "ipython",
    "version": 3
   },
   "file_extension": ".py",
   "mimetype": "text/x-python",
   "name": "python",
   "nbconvert_exporter": "python",
   "pygments_lexer": "ipython3",
   "version": "3.9.13"
  }
 },
 "nbformat": 4,
 "nbformat_minor": 5
}
