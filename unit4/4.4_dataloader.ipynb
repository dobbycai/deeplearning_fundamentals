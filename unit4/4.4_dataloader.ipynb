{
 "cells": [
  {
   "cell_type": "code",
   "execution_count": 3,
   "id": "055bc3f0-10fc-4548-a4db-4bc55404f872",
   "metadata": {},
   "outputs": [],
   "source": [
    "import os\n",
    "from git import Repo\n",
    "\n",
    "if not os.path.exists(\"mnist-pngs\"):\n",
    "    Repo.clone_from(\"https://github.com/rasbt/mnist-pngs\", \"mnist-pngs\")\n",
    "    "
   ]
  },
  {
   "cell_type": "markdown",
   "id": "08c38808-5821-4349-9ad9-d4aafd7d1ef9",
   "metadata": {},
   "source": [
    "# Loading CSV"
   ]
  },
  {
   "cell_type": "code",
   "execution_count": 5,
   "id": "b16eda54-2dfa-4a8b-a50e-6909121e0165",
   "metadata": {},
   "outputs": [
    {
     "data": {
      "text/html": [
       "<div>\n",
       "<style scoped>\n",
       "    .dataframe tbody tr th:only-of-type {\n",
       "        vertical-align: middle;\n",
       "    }\n",
       "\n",
       "    .dataframe tbody tr th {\n",
       "        vertical-align: top;\n",
       "    }\n",
       "\n",
       "    .dataframe thead th {\n",
       "        text-align: right;\n",
       "    }\n",
       "</style>\n",
       "<table border=\"1\" class=\"dataframe\">\n",
       "  <thead>\n",
       "    <tr style=\"text-align: right;\">\n",
       "      <th></th>\n",
       "      <th>filepath</th>\n",
       "      <th>label</th>\n",
       "    </tr>\n",
       "  </thead>\n",
       "  <tbody>\n",
       "    <tr>\n",
       "      <th>0</th>\n",
       "      <td>train/0/16585.png</td>\n",
       "      <td>0</td>\n",
       "    </tr>\n",
       "    <tr>\n",
       "      <th>1</th>\n",
       "      <td>train/0/24537.png</td>\n",
       "      <td>0</td>\n",
       "    </tr>\n",
       "    <tr>\n",
       "      <th>2</th>\n",
       "      <td>train/0/25629.png</td>\n",
       "      <td>0</td>\n",
       "    </tr>\n",
       "    <tr>\n",
       "      <th>3</th>\n",
       "      <td>train/0/20751.png</td>\n",
       "      <td>0</td>\n",
       "    </tr>\n",
       "    <tr>\n",
       "      <th>4</th>\n",
       "      <td>train/0/34730.png</td>\n",
       "      <td>0</td>\n",
       "    </tr>\n",
       "  </tbody>\n",
       "</table>\n",
       "</div>"
      ],
      "text/plain": [
       "            filepath  label\n",
       "0  train/0/16585.png      0\n",
       "1  train/0/24537.png      0\n",
       "2  train/0/25629.png      0\n",
       "3  train/0/20751.png      0\n",
       "4  train/0/34730.png      0"
      ]
     },
     "execution_count": 5,
     "metadata": {},
     "output_type": "execute_result"
    }
   ],
   "source": [
    "import pandas as pd\n",
    "\n",
    "df_train = pd.read_csv(\"mnist-pngs/train.csv\")\n",
    "df_train.head()"
   ]
  },
  {
   "cell_type": "code",
   "execution_count": 6,
   "id": "7266dbfe-0e3b-4f26-a7f3-ecb55b69b009",
   "metadata": {},
   "outputs": [
    {
     "data": {
      "text/html": [
       "<div>\n",
       "<style scoped>\n",
       "    .dataframe tbody tr th:only-of-type {\n",
       "        vertical-align: middle;\n",
       "    }\n",
       "\n",
       "    .dataframe tbody tr th {\n",
       "        vertical-align: top;\n",
       "    }\n",
       "\n",
       "    .dataframe thead th {\n",
       "        text-align: right;\n",
       "    }\n",
       "</style>\n",
       "<table border=\"1\" class=\"dataframe\">\n",
       "  <thead>\n",
       "    <tr style=\"text-align: right;\">\n",
       "      <th></th>\n",
       "      <th>filepath</th>\n",
       "      <th>label</th>\n",
       "    </tr>\n",
       "  </thead>\n",
       "  <tbody>\n",
       "    <tr>\n",
       "      <th>0</th>\n",
       "      <td>test/0/66062.png</td>\n",
       "      <td>0</td>\n",
       "    </tr>\n",
       "    <tr>\n",
       "      <th>1</th>\n",
       "      <td>test/0/64675.png</td>\n",
       "      <td>0</td>\n",
       "    </tr>\n",
       "    <tr>\n",
       "      <th>2</th>\n",
       "      <td>test/0/62204.png</td>\n",
       "      <td>0</td>\n",
       "    </tr>\n",
       "    <tr>\n",
       "      <th>3</th>\n",
       "      <td>test/0/60407.png</td>\n",
       "      <td>0</td>\n",
       "    </tr>\n",
       "    <tr>\n",
       "      <th>4</th>\n",
       "      <td>test/0/67368.png</td>\n",
       "      <td>0</td>\n",
       "    </tr>\n",
       "  </tbody>\n",
       "</table>\n",
       "</div>"
      ],
      "text/plain": [
       "           filepath  label\n",
       "0  test/0/66062.png      0\n",
       "1  test/0/64675.png      0\n",
       "2  test/0/62204.png      0\n",
       "3  test/0/60407.png      0\n",
       "4  test/0/67368.png      0"
      ]
     },
     "execution_count": 6,
     "metadata": {},
     "output_type": "execute_result"
    }
   ],
   "source": [
    "df_test = pd.read_csv(\"mnist-pngs/test.csv\")\n",
    "df_test.head()"
   ]
  },
  {
   "cell_type": "markdown",
   "id": "545ebfc5-8eca-48a0-bfc6-9d1870cfad42",
   "metadata": {},
   "source": [
    "# Split train set to train and val"
   ]
  },
  {
   "cell_type": "code",
   "execution_count": 7,
   "id": "dfd1aa57-e880-4417-87ea-7e402fe42524",
   "metadata": {},
   "outputs": [],
   "source": [
    "df_train = df_train.sample(frac = 1, random_state = 123)\n"
   ]
  },
  {
   "cell_type": "code",
   "execution_count": 15,
   "id": "26cf4361-1042-416d-8c65-1964633c7f6b",
   "metadata": {},
   "outputs": [
    {
     "name": "stdout",
     "output_type": "stream",
     "text": [
      "(60000, 2) 54000\n"
     ]
    }
   ],
   "source": [
    "loc = int(df_train.shape[0] * 0.9)\n",
    "print(df_train.shape, loc)"
   ]
  },
  {
   "cell_type": "code",
   "execution_count": 16,
   "id": "7a0aa6e3-4f3e-41d4-8d05-284edc2a2dd1",
   "metadata": {},
   "outputs": [],
   "source": [
    "df_new_train = df_train.iloc[:loc]\n",
    "df_new_val = df_train.iloc[loc:]\n",
    "\n",
    "df_new_train.to_csv('mnist-pngs/new_train.csv', index=None)\n",
    "df_new_val.to_csv('mnist-pngs/new_val.csv', index=None)"
   ]
  },
  {
   "cell_type": "code",
   "execution_count": null,
   "id": "4a490693-187c-4669-bd58-2589fa2d1deb",
   "metadata": {},
   "outputs": [],
   "source": []
  }
 ],
 "metadata": {
  "kernelspec": {
   "display_name": "Python 3 (ipykernel)",
   "language": "python",
   "name": "python3"
  },
  "language_info": {
   "codemirror_mode": {
    "name": "ipython",
    "version": 3
   },
   "file_extension": ".py",
   "mimetype": "text/x-python",
   "name": "python",
   "nbconvert_exporter": "python",
   "pygments_lexer": "ipython3",
   "version": "3.9.13"
  }
 },
 "nbformat": 4,
 "nbformat_minor": 5
}
