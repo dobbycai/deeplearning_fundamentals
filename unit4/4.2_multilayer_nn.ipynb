{
 "cells": [
  {
   "cell_type": "markdown",
   "id": "552f2c29-022a-41b8-8324-e562f23d2abe",
   "metadata": {},
   "source": [
    "# multilayer nn purpose\n",
    "- add hidden layer which is non linear (for example, ReLU)\n",
    "- with this hidden layer, the NN can simulate any continuous functions\n",
    "# type of multiplayer nn\n",
    "## One hidden layer with a lot of parameters (wide)\n",
    "- Easy to overfit\n",
    "## Multiple hidden layer with less parameters of each layner (deep)\n",
    "- hard to train\n",
    "# How to initialize the weights\n",
    "- put randoom small number for them"
   ]
  },
  {
   "cell_type": "code",
   "execution_count": null,
   "id": "65c7d9b6-a55e-46fb-926e-fbc2eb2f3fcc",
   "metadata": {},
   "outputs": [],
   "source": []
  }
 ],
 "metadata": {
  "kernelspec": {
   "display_name": "Python 3 (ipykernel)",
   "language": "python",
   "name": "python3"
  },
  "language_info": {
   "codemirror_mode": {
    "name": "ipython",
    "version": 3
   },
   "file_extension": ".py",
   "mimetype": "text/x-python",
   "name": "python",
   "nbconvert_exporter": "python",
   "pygments_lexer": "ipython3",
   "version": "3.9.13"
  }
 },
 "nbformat": 4,
 "nbformat_minor": 5
}
