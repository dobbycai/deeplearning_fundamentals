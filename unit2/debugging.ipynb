{
 "cells": [
  {
   "cell_type": "code",
   "execution_count": 3,
   "id": "017643f5-2bc0-4c0f-bf19-41aa11598b24",
   "metadata": {},
   "outputs": [],
   "source": [
    "import random\n",
    "\n",
    "random.seed(123)\n",
    "\n",
    "b = 0.\n",
    "X = [[random.random() for _ in range(1000)] # 500 rows\n",
    "     for i in range(500)]\n",
    "w = [random.random() for _ in range(1000)]\n",
    "\n",
    "\n",
    "X[10][10] = 'a'"
   ]
  },
  {
   "cell_type": "raw",
   "id": "5fe9ce89-af23-41a7-8382-b74bebb2e6f6",
   "metadata": {},
   "source": [
    "def my_func(X, w, b):\n",
    "    outputs = []\n",
    "    for j, x in enumerate(X):\n",
    "        output = b\n",
    "        for i, (x_j, w_j) in enumerate(zip(x, w)):\n",
    "            #import pdb; pdb.set_trace()\n",
    "            try:\n",
    "                output += x_j * w_j\n",
    "            except:\n",
    "                import pdb; pdb.post_mortem()\n",
    "        outputs.append(output)\n",
    "    return outputs"
   ]
  },
  {
   "cell_type": "code",
   "execution_count": null,
   "id": "f820081c-f3ad-464b-be83-0ff78e49f41e",
   "metadata": {},
   "outputs": [],
   "source": []
  },
  {
   "cell_type": "code",
   "execution_count": null,
   "id": "a06469fe-63e5-4ab2-82a9-4d7a4c91a65a",
   "metadata": {},
   "outputs": [],
   "source": []
  }
 ],
 "metadata": {
  "kernelspec": {
   "display_name": "Python 3 (ipykernel)",
   "language": "python",
   "name": "python3"
  },
  "language_info": {
   "codemirror_mode": {
    "name": "ipython",
    "version": 3
   },
   "file_extension": ".py",
   "mimetype": "text/x-python",
   "name": "python",
   "nbconvert_exporter": "python",
   "pygments_lexer": "ipython3",
   "version": "3.9.13"
  }
 },
 "nbformat": 4,
 "nbformat_minor": 5
}
