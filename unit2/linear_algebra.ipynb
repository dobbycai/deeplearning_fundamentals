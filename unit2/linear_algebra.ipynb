{
 "cells": [
  {
   "cell_type": "code",
   "execution_count": 2,
   "id": "688c90e5-bf41-4e8b-be36-6de275ed080d",
   "metadata": {},
   "outputs": [],
   "source": [
    "import torch"
   ]
  },
  {
   "cell_type": "code",
   "execution_count": 8,
   "id": "9ab1b6ca-24a2-4321-8e47-931b68ac84f0",
   "metadata": {},
   "outputs": [
    {
     "name": "stdout",
     "output_type": "stream",
     "text": [
      "tensor(13.4200)\n"
     ]
    }
   ],
   "source": [
    "b = torch.tensor(0.)\n",
    "x = torch.tensor([1.2, 2.2])\n",
    "w = torch.tensor([3.3, 4.3])\n",
    "\n",
    "print(x.dot(w) + b)"
   ]
  },
  {
   "cell_type": "code",
   "execution_count": 9,
   "id": "0c2388ab-34cf-464c-9041-ba02e8d7f359",
   "metadata": {},
   "outputs": [
    {
     "data": {
      "text/plain": [
       "tensor([13.4200, 38.1700])"
      ]
     },
     "execution_count": 9,
     "metadata": {},
     "output_type": "execute_result"
    }
   ],
   "source": [
    "b = torch.tensor([0.])\n",
    "X = torch.tensor(\n",
    "   [[1.2, 2.2], \n",
    "    [4.4, 5.5]]\n",
    ")\n",
    "w = torch.tensor([3.3, 4.3]) #this is a vector, we don't need to do Transpose\n",
    "\n",
    "X.matmul(w) + b"
   ]
  },
  {
   "cell_type": "code",
   "execution_count": 10,
   "id": "0023561a-a3b7-4019-b46a-551a9dc6a79a",
   "metadata": {},
   "outputs": [],
   "source": [
    "X = torch.rand(100, 10)\n",
    "W = torch.rand(50, 10)"
   ]
  },
  {
   "cell_type": "code",
   "execution_count": 11,
   "id": "a3fd89f2-2c22-4f4b-baa5-2fa32ba914e2",
   "metadata": {},
   "outputs": [
    {
     "name": "stdout",
     "output_type": "stream",
     "text": [
      "torch.Size([100, 10])\n"
     ]
    }
   ],
   "source": [
    "print(X.shape)"
   ]
  },
  {
   "cell_type": "code",
   "execution_count": 12,
   "id": "114b8441-681d-4a08-be8c-018a1ef84e27",
   "metadata": {},
   "outputs": [
    {
     "name": "stdout",
     "output_type": "stream",
     "text": [
      "torch.Size([50, 10])\n"
     ]
    }
   ],
   "source": [
    "print(W.shape)"
   ]
  },
  {
   "cell_type": "code",
   "execution_count": 13,
   "id": "056ad134-07b0-42ef-bcd9-124fad513a3f",
   "metadata": {},
   "outputs": [],
   "source": [
    "R = torch.matmul(X, W.T)"
   ]
  },
  {
   "cell_type": "code",
   "execution_count": 14,
   "id": "69fc87e1-58ac-4f07-9a9e-00bc059bddb9",
   "metadata": {},
   "outputs": [
    {
     "name": "stdout",
     "output_type": "stream",
     "text": [
      "torch.Size([100, 50])\n"
     ]
    }
   ],
   "source": [
    "print(R.shape)"
   ]
  },
  {
   "cell_type": "code",
   "execution_count": null,
   "id": "8410f445-6016-4c3d-ab0b-179984acfe98",
   "metadata": {},
   "outputs": [],
   "source": []
  }
 ],
 "metadata": {
  "kernelspec": {
   "display_name": "Python 3 (ipykernel)",
   "language": "python",
   "name": "python3"
  },
  "language_info": {
   "codemirror_mode": {
    "name": "ipython",
    "version": 3
   },
   "file_extension": ".py",
   "mimetype": "text/x-python",
   "name": "python",
   "nbconvert_exporter": "python",
   "pygments_lexer": "ipython3",
   "version": "3.9.13"
  }
 },
 "nbformat": 4,
 "nbformat_minor": 5
}
