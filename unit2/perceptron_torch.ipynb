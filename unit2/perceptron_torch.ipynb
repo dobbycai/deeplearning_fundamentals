{
 "cells": [
  {
   "cell_type": "code",
   "execution_count": 5,
   "id": "94a63d0d-8c9a-489e-9334-ff666b33b0a6",
   "metadata": {},
   "outputs": [],
   "source": [
    "import pandas as pd"
   ]
  },
  {
   "cell_type": "code",
   "execution_count": 7,
   "id": "8cede2cd-16f4-48f6-a9f4-9836020e5ec6",
   "metadata": {},
   "outputs": [
    {
     "data": {
      "text/html": [
       "<div>\n",
       "<style scoped>\n",
       "    .dataframe tbody tr th:only-of-type {\n",
       "        vertical-align: middle;\n",
       "    }\n",
       "\n",
       "    .dataframe tbody tr th {\n",
       "        vertical-align: top;\n",
       "    }\n",
       "\n",
       "    .dataframe thead th {\n",
       "        text-align: right;\n",
       "    }\n",
       "</style>\n",
       "<table border=\"1\" class=\"dataframe\">\n",
       "  <thead>\n",
       "    <tr style=\"text-align: right;\">\n",
       "      <th></th>\n",
       "      <th>x1</th>\n",
       "      <th>x2</th>\n",
       "      <th>label</th>\n",
       "    </tr>\n",
       "  </thead>\n",
       "  <tbody>\n",
       "    <tr>\n",
       "      <th>0</th>\n",
       "      <td>0.77</td>\n",
       "      <td>-1.14</td>\n",
       "      <td>0</td>\n",
       "    </tr>\n",
       "    <tr>\n",
       "      <th>1</th>\n",
       "      <td>-0.33</td>\n",
       "      <td>1.44</td>\n",
       "      <td>0</td>\n",
       "    </tr>\n",
       "    <tr>\n",
       "      <th>2</th>\n",
       "      <td>0.91</td>\n",
       "      <td>-3.07</td>\n",
       "      <td>0</td>\n",
       "    </tr>\n",
       "    <tr>\n",
       "      <th>3</th>\n",
       "      <td>-0.37</td>\n",
       "      <td>-1.91</td>\n",
       "      <td>0</td>\n",
       "    </tr>\n",
       "    <tr>\n",
       "      <th>4</th>\n",
       "      <td>-1.84</td>\n",
       "      <td>-1.13</td>\n",
       "      <td>0</td>\n",
       "    </tr>\n",
       "    <tr>\n",
       "      <th>...</th>\n",
       "      <td>...</td>\n",
       "      <td>...</td>\n",
       "      <td>...</td>\n",
       "    </tr>\n",
       "    <tr>\n",
       "      <th>95</th>\n",
       "      <td>0.71</td>\n",
       "      <td>2.27</td>\n",
       "      <td>1</td>\n",
       "    </tr>\n",
       "    <tr>\n",
       "      <th>96</th>\n",
       "      <td>1.96</td>\n",
       "      <td>0.83</td>\n",
       "      <td>1</td>\n",
       "    </tr>\n",
       "    <tr>\n",
       "      <th>97</th>\n",
       "      <td>2.52</td>\n",
       "      <td>1.83</td>\n",
       "      <td>1</td>\n",
       "    </tr>\n",
       "    <tr>\n",
       "      <th>98</th>\n",
       "      <td>2.77</td>\n",
       "      <td>2.82</td>\n",
       "      <td>1</td>\n",
       "    </tr>\n",
       "    <tr>\n",
       "      <th>99</th>\n",
       "      <td>4.16</td>\n",
       "      <td>3.34</td>\n",
       "      <td>1</td>\n",
       "    </tr>\n",
       "  </tbody>\n",
       "</table>\n",
       "<p>100 rows × 3 columns</p>\n",
       "</div>"
      ],
      "text/plain": [
       "      x1    x2  label\n",
       "0   0.77 -1.14      0\n",
       "1  -0.33  1.44      0\n",
       "2   0.91 -3.07      0\n",
       "3  -0.37 -1.91      0\n",
       "4  -1.84 -1.13      0\n",
       "..   ...   ...    ...\n",
       "95  0.71  2.27      1\n",
       "96  1.96  0.83      1\n",
       "97  2.52  1.83      1\n",
       "98  2.77  2.82      1\n",
       "99  4.16  3.34      1\n",
       "\n",
       "[100 rows x 3 columns]"
      ]
     },
     "execution_count": 7,
     "metadata": {},
     "output_type": "execute_result"
    }
   ],
   "source": [
    "df = pd.read_csv(\"perceptron_toydata.txt\", sep=\"\\t\", header=None, names=[\"x1\", \"x2\", \"label\"])\n",
    "df"
   ]
  },
  {
   "cell_type": "code",
   "execution_count": 8,
   "id": "5f236f83-f957-44dc-a4a8-4e3a053aa99a",
   "metadata": {},
   "outputs": [],
   "source": [
    "x_train = df[[\"x1\", \"x2\"]].values\n",
    "y_train = df[\"label\"].values"
   ]
  },
  {
   "cell_type": "code",
   "execution_count": 9,
   "id": "7abb1c4c-5dc6-415e-b04c-a8b395f8e863",
   "metadata": {},
   "outputs": [
    {
     "name": "stdout",
     "output_type": "stream",
     "text": [
      "<class 'numpy.ndarray'>\n"
     ]
    }
   ],
   "source": [
    "print(type(x_train))"
   ]
  },
  {
   "cell_type": "code",
   "execution_count": 10,
   "id": "edfa92f0-df99-48e7-8408-ee77548139dc",
   "metadata": {},
   "outputs": [],
   "source": [
    "import torch"
   ]
  },
  {
   "cell_type": "code",
   "execution_count": 9,
   "id": "86c191e4-c18f-4dfa-aed2-7d7c8ffa679e",
   "metadata": {},
   "outputs": [],
   "source": [
    "x_train = torch.from_numpy(x_train)\n",
    "y_train = torch.from_numpy(y_train)"
   ]
  },
  {
   "cell_type": "code",
   "execution_count": 12,
   "id": "1b2dfc2a-0747-4744-9bf4-37cd0d0b27ab",
   "metadata": {},
   "outputs": [
    {
     "name": "stdout",
     "output_type": "stream",
     "text": [
      "<class 'torch.Tensor'>\n"
     ]
    }
   ],
   "source": [
    "print(type(x_train))"
   ]
  },
  {
   "cell_type": "code",
   "execution_count": 13,
   "id": "520e8efc-6410-4edc-a3e1-b2ac78b93200",
   "metadata": {},
   "outputs": [
    {
     "data": {
      "text/plain": [
       "tensor([[ 0.7700, -1.1400],\n",
       "        [-0.3300,  1.4400],\n",
       "        [ 0.9100, -3.0700],\n",
       "        [-0.3700, -1.9100],\n",
       "        [-1.8400, -1.1300],\n",
       "        [-1.5000,  0.3400],\n",
       "        [-0.6300, -1.5300],\n",
       "        [-1.0800, -1.2300],\n",
       "        [ 0.3900, -1.9900],\n",
       "        [-1.2600, -2.9000],\n",
       "        [-5.2700, -0.7800],\n",
       "        [-0.4900, -2.7400],\n",
       "        [ 1.4800, -3.7400],\n",
       "        [-1.6400, -1.9600],\n",
       "        [ 0.4500,  0.3600],\n",
       "        [-1.4800, -1.1700],\n",
       "        [-2.9400, -4.4700],\n",
       "        [-2.1900, -1.4800],\n",
       "        [ 0.0200, -0.0200],\n",
       "        [-2.2400, -2.1200],\n",
       "        [-3.1700, -3.6900],\n",
       "        [-4.0900,  1.0300],\n",
       "        [-2.4100, -2.3100],\n",
       "        [-3.4500, -0.6100],\n",
       "        [-3.9600, -2.0000],\n",
       "        [-2.9500, -1.1600],\n",
       "        [-2.4200, -3.3500],\n",
       "        [-1.7400, -1.1000],\n",
       "        [-1.6100, -1.2800],\n",
       "        [-2.5900, -2.2100],\n",
       "        [-2.6400, -2.2000],\n",
       "        [-2.8400, -4.1200],\n",
       "        [-1.4500, -2.2600],\n",
       "        [-3.9800, -1.0500],\n",
       "        [-2.9700, -1.6300],\n",
       "        [-0.6800, -1.5200],\n",
       "        [-0.1000, -3.4300],\n",
       "        [-1.1400, -2.6600],\n",
       "        [-2.9200, -2.5100],\n",
       "        [-2.1400, -1.6200],\n",
       "        [-3.3300, -0.4400],\n",
       "        [-1.0500, -3.8500],\n",
       "        [ 0.3800,  0.9500],\n",
       "        [-0.0500, -1.9500],\n",
       "        [-3.2000, -0.2200],\n",
       "        [-2.2600,  0.0100],\n",
       "        [-1.4100, -0.3300],\n",
       "        [-1.2000, -0.7100],\n",
       "        [-1.6900,  0.8000],\n",
       "        [-1.5200, -1.1400],\n",
       "        [ 3.8800,  0.6500],\n",
       "        [ 0.7300,  2.9700],\n",
       "        [ 0.8300,  3.9400],\n",
       "        [ 1.5900,  1.2500],\n",
       "        [ 3.9200,  3.4800],\n",
       "        [ 3.8700,  2.9100],\n",
       "        [ 1.1400,  3.9100],\n",
       "        [ 1.7300,  2.8000],\n",
       "        [ 2.9500,  1.8400],\n",
       "        [ 2.6100,  2.9200],\n",
       "        [ 2.3800,  0.9000],\n",
       "        [ 2.3000,  3.3300],\n",
       "        [ 1.3100,  1.8500],\n",
       "        [ 1.5600,  3.8500],\n",
       "        [ 2.6700,  2.4100],\n",
       "        [ 1.2300,  2.5400],\n",
       "        [ 1.3300,  2.0300],\n",
       "        [ 1.3600,  2.6800],\n",
       "        [ 2.5800,  1.7900],\n",
       "        [ 2.4000,  0.9100],\n",
       "        [ 0.5100,  2.4400],\n",
       "        [ 2.1700,  2.6400],\n",
       "        [ 4.3800,  2.9400],\n",
       "        [ 1.0900,  3.1200],\n",
       "        [ 0.6800,  1.5400],\n",
       "        [ 1.9300,  3.7100],\n",
       "        [ 1.2600,  1.1700],\n",
       "        [ 1.9000,  1.3400],\n",
       "        [ 3.1300,  0.9200],\n",
       "        [ 0.8500,  1.5600],\n",
       "        [ 1.5000,  3.9300],\n",
       "        [ 2.9500,  2.0900],\n",
       "        [ 0.7700,  2.8400],\n",
       "        [ 1.0000,  0.4600],\n",
       "        [ 3.1900,  2.3200],\n",
       "        [ 2.9200,  2.3200],\n",
       "        [ 2.8600,  1.3500],\n",
       "        [ 0.9700,  2.6800],\n",
       "        [ 1.2000,  1.3100],\n",
       "        [ 1.5400,  2.0200],\n",
       "        [ 1.6500,  0.6300],\n",
       "        [ 1.3600, -0.2200],\n",
       "        [ 2.6300,  0.4000],\n",
       "        [ 0.9000,  2.0500],\n",
       "        [ 1.2600,  3.5400],\n",
       "        [ 0.7100,  2.2700],\n",
       "        [ 1.9600,  0.8300],\n",
       "        [ 2.5200,  1.8300],\n",
       "        [ 2.7700,  2.8200],\n",
       "        [ 4.1600,  3.3400]], dtype=torch.float64)"
      ]
     },
     "execution_count": 13,
     "metadata": {},
     "output_type": "execute_result"
    }
   ],
   "source": [
    "x_train"
   ]
  },
  {
   "cell_type": "code",
   "execution_count": 11,
   "id": "83ff5400-610c-4fdb-933b-e526fb36c914",
   "metadata": {},
   "outputs": [],
   "source": [
    "x_train = x_train.to(torch.float32)"
   ]
  },
  {
   "cell_type": "code",
   "execution_count": 17,
   "id": "5b9a60fd-f33e-4409-9198-73bccd85239f",
   "metadata": {},
   "outputs": [
    {
     "data": {
      "text/plain": [
       "device(type='cpu')"
      ]
     },
     "execution_count": 17,
     "metadata": {},
     "output_type": "execute_result"
    }
   ],
   "source": [
    "x_train.device"
   ]
  },
  {
   "cell_type": "code",
   "execution_count": 18,
   "id": "8ab66c95-cefb-43d8-b121-9b95ad385196",
   "metadata": {},
   "outputs": [],
   "source": [
    "%matplotlib inline\n",
    "import matplotlib.pyplot as plt"
   ]
  },
  {
   "cell_type": "code",
   "execution_count": 21,
   "id": "d0377884-80a9-4bd9-9002-f9e92c25ee75",
   "metadata": {},
   "outputs": [
    {
     "data": {
      "image/png": "[encoded data removed]",
      "text/plain": [
       "<Figure size 640x480 with 1 Axes>"
      ]
     },
     "metadata": {},
     "output_type": "display_data"
    }
   ],
   "source": [
    "plt.plot(\n",
    "    x_train[y_train == 0, 0],\n",
    "    x_train[y_train == 0, 1],\n",
    "    marker=\"D\",\n",
    "    markersize=10,\n",
    "    linestyle=\"\",\n",
    "    label=\"Class 0\",\n",
    ")\n",
    "\n",
    "plt.plot(\n",
    "    x_train[y_train == 1, 0],\n",
    "    x_train[y_train == 1, 1],\n",
    "    marker=\"^\",\n",
    "    markersize=13,\n",
    "    linestyle=\"\",\n",
    "    label=\"Class 1\",\n",
    ")\n",
    "\n",
    "plt.legend(loc=2)\n",
    "\n",
    "plt.xlim([-5, 5])\n",
    "plt.ylim([-5, 5])\n",
    "\n",
    "plt.xlabel(\"Feature $x_1$\", fontsize=12)\n",
    "plt.ylabel(\"Feature $x_2$\", fontsize=12)\n",
    "\n",
    "plt.grid()\n",
    "plt.show()"
   ]
  },
  {
   "cell_type": "code",
   "execution_count": 16,
   "id": "9c32199c-76f3-4f68-bb02-5fda24afe8f4",
   "metadata": {},
   "outputs": [],
   "source": [
    "import torch\n",
    "class Perceptron:\n",
    "    def __init__(self, num_features):\n",
    "        self.num_features = num_features\n",
    "        self.weights = torch.tensor([2.86, 1.98])\n",
    "        self.bias = torch.tensor(-3.0)\n",
    "\n",
    "    def forward(self, x):\n",
    "        weighted_sum_z = torch.dot(x, self.weights) + self.bias\n",
    "\n",
    "        return torch.where(weighted_sum_z > 0, torch.tensor(1.0), torch.tensor(0.))\n",
    "\n",
    "    def forward_all(self, all_x):\n",
    "        weighted_sum_z = torch.matmul(all_x, self.weights) + self.bias\n",
    "        print(weighted_sum_z)\n",
    "        return torch.where(weighted_sum_z > 0, torch.tensor(1.0), torch.tensor(0.))\n",
    "\n",
    "    def update(self, x, true_y):\n",
    "        prediction = self.forward(x)\n",
    "        error = true_y - prediction\n",
    "\n",
    "        # update\n",
    "        self.bias += error\n",
    "        self.weights += error * x\n",
    "\n",
    "        return error"
   ]
  },
  {
   "cell_type": "code",
   "execution_count": 17,
   "id": "7238067a-af76-4b82-adf8-48e9cd8dd912",
   "metadata": {},
   "outputs": [
    {
     "name": "stdout",
     "output_type": "stream",
     "text": [
      "tensor([ -3.0550,  -1.0926,  -6.4760,  -7.8400, -10.4998,  -6.6168,  -7.8312,\n",
      "         -8.5242,  -5.8248, -12.3456, -19.6166,  -9.8266,  -6.1724, -11.5712,\n",
      "         -1.0002,  -9.5494, -20.2590, -12.1938,  -2.9824, -13.6040, -19.3724,\n",
      "        -12.6580, -14.4664, -14.0748, -18.2856, -13.7338, -16.5542, -10.1544,\n",
      "        -10.1390, -14.7832, -14.9064, -19.2800, -11.6218, -16.4618, -14.7216,\n",
      "         -7.9544, -10.0774, -11.5272, -16.3210, -12.3280, -13.3950, -13.6260,\n",
      "         -0.0322,  -7.0040, -12.5876,  -9.4438,  -7.6860,  -7.8378,  -6.2494,\n",
      "         -9.6044,   9.3838,   4.9684,   7.1750,   4.0224,  15.1016,  13.8300,\n",
      "          8.0022,   7.4918,   9.0802,  10.2462,   5.5888,  10.1714,   4.4096,\n",
      "          9.0846,   9.4080,   5.5470,   4.8232,   6.1960,   7.9230,   5.6658,\n",
      "          3.2898,   8.4334,  15.3480,   6.2950,   1.9940,   9.8656,   2.9202,\n",
      "          5.0872,   7.7734,   2.5198,   9.0714,   9.5752,   4.8254,   0.7708,\n",
      "         10.7170,   9.9448,   7.8526,   5.0806,   3.0258,   5.4040,   2.9664,\n",
      "          0.4540,   5.3138,   3.6330,   7.6128,   3.5252,   4.2490,   7.8306,\n",
      "         10.5058,  15.5108])\n"
     ]
    },
    {
     "data": {
      "text/plain": [
       "tensor([0., 0., 0., 0., 0., 0., 0., 0., 0., 0., 0., 0., 0., 0., 0., 0., 0., 0.,\n",
       "        0., 0., 0., 0., 0., 0., 0., 0., 0., 0., 0., 0., 0., 0., 0., 0., 0., 0.,\n",
       "        0., 0., 0., 0., 0., 0., 0., 0., 0., 0., 0., 0., 0., 0., 1., 1., 1., 1.,\n",
       "        1., 1., 1., 1., 1., 1., 1., 1., 1., 1., 1., 1., 1., 1., 1., 1., 1., 1.,\n",
       "        1., 1., 1., 1., 1., 1., 1., 1., 1., 1., 1., 1., 1., 1., 1., 1., 1., 1.,\n",
       "        1., 1., 1., 1., 1., 1., 1., 1., 1., 1.])"
      ]
     },
     "execution_count": 17,
     "metadata": {},
     "output_type": "execute_result"
    }
   ],
   "source": [
    "ppn = Perceptron(num_features=2)\n",
    "ppn.forward_all(x_train)\n",
    "# train(ppn, x_train, y_train, 10)"
   ]
  },
  {
   "cell_type": "code",
   "execution_count": null,
   "id": "5c1f3fe3-7edf-4c08-8c15-2123be7d83e4",
   "metadata": {},
   "outputs": [],
   "source": []
  }
 ],
 "metadata": {
  "kernelspec": {
   "display_name": "Python 3 (ipykernel)",
   "language": "python",
   "name": "python3"
  },
  "language_info": {
   "codemirror_mode": {
    "name": "ipython",
    "version": 3
   },
   "file_extension": ".py",
   "mimetype": "text/x-python",
   "name": "python",
   "nbconvert_exporter": "python",
   "pygments_lexer": "ipython3",
   "version": "3.9.13"
  }
 },
 "nbformat": 4,
 "nbformat_minor": 5
}
